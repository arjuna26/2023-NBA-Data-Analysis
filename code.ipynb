{
 "cells": [
  {
   "attachments": {},
   "cell_type": "markdown",
   "metadata": {},
   "source": [
    "**Analyzing 2022-2023 NBA Player Statistics**\n",
    "---\n",
    "*  We will set the project up in this section"
   ]
  },
  {
   "attachments": {},
   "cell_type": "markdown",
   "metadata": {},
   "source": [
    "**Importing Libraries**\n",
    "\n",
    "\n",
    "\n",
    "*  To start, we import all needed libraries for this project\n",
    "*  We will use a number of imports to help us visualize and make calculations for this project\n",
    "\n",
    "---"
   ]
  },
  {
   "cell_type": "code",
   "execution_count": null,
   "metadata": {},
   "outputs": [],
   "source": [
    "import pandas as pd\n",
    "import numpy as np\n",
    "import scipy.stats as stats\n",
    "import matplotlib.pyplot as plt\n",
    "import seaborn\n",
    "from sklearn.cluster import KMeans\n",
    "from sklearn.neighbors import KNeighborsClassifier\n"
   ]
  },
  {
   "attachments": {},
   "cell_type": "markdown",
   "metadata": {},
   "source": [
    "**Reading the Data**\n",
    "\n",
    "*  Using pandas, we read our data in nd set it as a variable named data\n",
    "*  Then using the .sample() function, the rows in our data are randomly shuffled\n",
    "*  Removing players with less than 96 mintues of play time will help create less outliers that can skew the results\n",
    "\n",
    "---"
   ]
  },
  {
   "cell_type": "code",
   "execution_count": null,
   "metadata": {},
   "outputs": [],
   "source": [
    "data = pd.read_csv(\"data.csv\")\n",
    "data = data.sample(frac=1)\n",
    "data = data[data.MP > 96]"
   ]
  },
  {
   "attachments": {},
   "cell_type": "markdown",
   "metadata": {},
   "source": [
    "**Descriptive Statistics**\n",
    "\n",
    "*  To get a better look at our stats as a whole, using the describe() function can give a good outline of a selection of specific statistics\n",
    "\n",
    "---\n"
   ]
  },
  {
   "cell_type": "code",
   "execution_count": null,
   "metadata": {},
   "outputs": [],
   "source": [
    "data_small = data[[\"Age\", \"MP\", \"FG\", \"3P\", \"2P\", \"FT\", \"TRB\", \"AST\", \"STL\", \"BLK\", \"PTS\"]]\n",
    "data_small.describe()"
   ]
  },
  {
   "attachments": {},
   "cell_type": "markdown",
   "metadata": {},
   "source": [
    "**Cleaning the Data** \n",
    "\n",
    "*  In basketball, there are some players who play in multiple positions\n",
    "*  To clean this up, we can simply convert players to a single position\n",
    "*  We will also create a compact version of our statistics including only some of the stats we want to take a closer look at. This variable will be named data_small and will be used throughout the project\n",
    "\n",
    "---"
   ]
  },
  {
   "cell_type": "code",
   "execution_count": null,
   "metadata": {},
   "outputs": [],
   "source": [
    "data=data.replace(\"PF-SF\",\"PF\")\n",
    "data=data.replace(\"SG-PF\",\"SG\")\n",
    "data=data.replace(\"SG-SF\",\"SG\")\n",
    "data=data.replace(\"C-PF\",\"C\")\n",
    "data=data.replace(\"PF-C\",\"PF\")\n",
    "data=data.replace(\"SF-SG\",\"SF\")\n",
    "data=data.replace(\"SG-PG\", \"SG\")\n",
    "\n",
    "data_small = data[[\"Pos\", \"TRB\", \"AST\", \"STL\", \"2P\", \"3P\", \"BLK\"]]"
   ]
  },
  {
   "cell_type": "code",
   "execution_count": null,
   "metadata": {},
   "outputs": [],
   "source": [
    "# plot the compact data set using seaborn pairplot\n",
    "\n",
    "seaborn.pairplot(data_small, hue='Pos', size = 2)"
   ]
  },
  {
   "attachments": {},
   "cell_type": "markdown",
   "metadata": {},
   "source": [
    "**Identifying Clusters**\n",
    "---\n",
    "*  In order to use the K-mean clustering, to correctly partition observations into clusters we must first observe some potential clusters defined by our selected class: Player Position \n",
    "*  We will use the matplotlib scatter plot to visualize potential clusters\n",
    "\n"
   ]
  },
  {
   "attachments": {},
   "cell_type": "markdown",
   "metadata": {},
   "source": [
    "**3 Points per Minute vs Total Rebounds per Minute**\n",
    "\n",
    "\n",
    "---"
   ]
  },
  {
   "cell_type": "code",
   "execution_count": null,
   "metadata": {},
   "outputs": [],
   "source": [
    "data[\"3P/MP\"] = data[\"3P\"]/data[\"MP\"]\n",
    "data[\"TRB/MP\"] = data[\"TRB\"]/data[\"MP\"]\n",
    "\n",
    "fig, ax = plt.subplots()\n",
    "\n",
    "x_var = \"TRB/MP\"\n",
    "y_var = \"3P/MP\"\n",
    "\n",
    "colors = {'SG':'purple', 'PF':'blue', 'C':'red', 'SF':'orange', 'PG':'yellow'}\n",
    "\n",
    "ax.scatter(data[x_var], data[y_var], c=data['Pos'].apply(lambda x:colors[x]), s =10)"
   ]
  },
  {
   "attachments": {},
   "cell_type": "markdown",
   "metadata": {},
   "source": [
    "**2 Points per Minute vs Blocks per Minute**\n",
    "\n",
    "---"
   ]
  },
  {
   "cell_type": "code",
   "execution_count": null,
   "metadata": {},
   "outputs": [],
   "source": [
    "data[\"2P/MP\"] = data[\"2P\"]/data[\"MP\"]\n",
    "data[\"BLK/MP\"] = data[\"BLK\"]/data[\"MP\"]\n",
    "\n",
    "fig, ax = plt.subplots()\n",
    "\n",
    "x_var = \"BLK/MP\"\n",
    "y_var = \"2P/MP\"\n",
    "\n",
    "colors = {'SG':'purple', 'PF':'blue', 'C':'red', 'SF':'orange', 'PG':'yellow'}\n",
    "\n",
    "ax.scatter(data[x_var], data[y_var], c=data['Pos'].apply(lambda x:colors[x]), s =10)"
   ]
  },
  {
   "attachments": {},
   "cell_type": "markdown",
   "metadata": {},
   "source": [
    "**Steals per Minute vs Assits per Minute**\n",
    "\n",
    "---"
   ]
  },
  {
   "cell_type": "code",
   "execution_count": null,
   "metadata": {},
   "outputs": [],
   "source": [
    "data[\"STL/MP\"] = data[\"STL\"]/data[\"MP\"]\n",
    "data[\"AST/MP\"] = data[\"AST\"]/data[\"MP\"]\n",
    "\n",
    "fig, ax = plt.subplots()\n",
    "\n",
    "x_var = \"AST/MP\"\n",
    "y_var = \"STL/MP\"\n",
    "\n",
    "colors = {'SG':'purple', 'PF':'blue', 'C':'red', 'SF':'orange', 'PG':'yellow'}\n",
    "\n",
    "ax.scatter(data[x_var], data[y_var], c=data['Pos'].apply(lambda x:colors[x]), s =10)"
   ]
  },
  {
   "attachments": {},
   "cell_type": "markdown",
   "metadata": {},
   "source": [
    "**Total Rebounds per Minute vs Assists per Minute**\n",
    "\n",
    "---"
   ]
  },
  {
   "cell_type": "code",
   "execution_count": null,
   "metadata": {},
   "outputs": [],
   "source": [
    "data[\"TRB/MP\"] = data[\"TRB\"]/data[\"MP\"]\n",
    "data[\"AST/MP\"] = data[\"AST\"]/data[\"MP\"]\n",
    "\n",
    "fig, ax = plt.subplots()\n",
    "\n",
    "x_var = \"AST/MP\"\n",
    "y_var = \"TRB/MP\"\n",
    "\n",
    "colors = {'SG':'purple', 'PF':'blue', 'C':'red', 'SF':'orange', 'PG':'yellow'}\n",
    "\n",
    "ax.scatter(data[x_var], data[y_var], c=data['Pos'].apply(lambda x:colors[x]), s =10)"
   ]
  },
  {
   "attachments": {},
   "cell_type": "markdown",
   "metadata": {},
   "source": [
    "**Assists per Minute vs Blocks per Minute**\n",
    "\n",
    "---"
   ]
  },
  {
   "cell_type": "code",
   "execution_count": null,
   "metadata": {},
   "outputs": [],
   "source": [
    "data[\"BLK/MP\"] = data[\"BLK\"]/data[\"MP\"]\n",
    "data[\"AST/MP\"] = data[\"AST\"]/data[\"MP\"]\n",
    "\n",
    "fig, ax = plt.subplots()\n",
    "\n",
    "x_var = \"AST/MP\"\n",
    "y_var = \"BLK/MP\"\n",
    "\n",
    "colors = {'SG':'purple', 'PF':'blue', 'C':'red', 'SF':'orange', 'PG':'yellow'}\n",
    "\n",
    "ax.scatter(data[x_var], data[y_var], c=data['Pos'].apply(lambda x:colors[x]), s =10)"
   ]
  },
  {
   "attachments": {},
   "cell_type": "markdown",
   "metadata": {},
   "source": [
    "**K-Means Algorithm**\n",
    "---\n",
    "*  Using the clusters from Assists per Minute vs Blocks per Minute, we will now use the k-means algorithm to find 3 centroids in our normalized data\n",
    "---"
   ]
  },
  {
   "cell_type": "code",
   "execution_count": null,
   "metadata": {},
   "outputs": [],
   "source": [
    "dfn = data[[\"AST/MP\", \"BLK/MP\"]]\n",
    "\n",
    "kmeans = KMeans(n_clusters = 3, init = 'k-means++', max_iter = 530, n_init = 10, random_state = 0)\n",
    "\n",
    "y_kmeans = kmeans.fit_predict(dfn)\n",
    "\n",
    "print(kmeans.cluster_centers_)"
   ]
  },
  {
   "attachments": {},
   "cell_type": "markdown",
   "metadata": {},
   "source": [
    "The above coordinates represent the 3 center points fo each cluster our algorithm discovered. To visualize, we will once again use matplotlib scatter plot."
   ]
  },
  {
   "cell_type": "code",
   "execution_count": null,
   "metadata": {},
   "outputs": [],
   "source": [
    "d0=dfn[y_kmeans == 0]\n",
    "d1=dfn[y_kmeans == 1]\n",
    "d2=dfn[y_kmeans == 2]\n",
    "d3=dfn[y_kmeans == 3]\n",
    "d4=dfn[y_kmeans == 4]\n",
    "\n",
    "# Clusters\n",
    "plt.scatter(d0[x_var], d0[y_var], s = 10, c = 'blue', label = 'D0')\n",
    "plt.scatter(d1[x_var], d1[y_var], s = 10, c = 'green', label = 'D1')\n",
    "plt.scatter(d2[x_var], d2[y_var], s = 10, c = 'red', label = 'D2')\n",
    "\n",
    "plt.scatter(kmeans.cluster_centers_[:, 0], kmeans.cluster_centers_[:,1], s = 100, c = 'yellow', label = 'Centroids')"
   ]
  },
  {
   "attachments": {},
   "cell_type": "markdown",
   "metadata": {},
   "source": [
    "Our K-Means Algorithm found 3 clusters and their centers which are very similar to the ones we found within the data and it's player positions. "
   ]
  }
 ],
 "metadata": {
  "kernelspec": {
   "display_name": "Python 3",
   "language": "python",
   "name": "python3"
  },
  "language_info": {
   "codemirror_mode": {
    "name": "ipython",
    "version": 3
   },
   "file_extension": ".py",
   "mimetype": "text/x-python",
   "name": "python",
   "nbconvert_exporter": "python",
   "pygments_lexer": "ipython3",
   "version": "3.10.11"
  },
  "orig_nbformat": 4
 },
 "nbformat": 4,
 "nbformat_minor": 2
}
